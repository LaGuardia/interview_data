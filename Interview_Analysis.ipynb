{
  "nbformat": 4,
  "nbformat_minor": 0,
  "metadata": {
    "colab": {
      "provenance": [],
      "authorship_tag": "ABX9TyNqLCsh7k5ceP+fF2bxmMyH",
      "include_colab_link": true
    },
    "kernelspec": {
      "name": "python3",
      "display_name": "Python 3"
    },
    "language_info": {
      "name": "python"
    }
  },
  "cells": [
    {
      "cell_type": "markdown",
      "metadata": {
        "id": "view-in-github",
        "colab_type": "text"
      },
      "source": [
        "<a href=\"https://colab.research.google.com/github/LaGuardia/interview_data/blob/main/Interview_Analysis.ipynb\" target=\"_parent\"><img src=\"https://colab.research.google.com/assets/colab-badge.svg\" alt=\"Open In Colab\"/></a>"
      ]
    },
    {
      "cell_type": "markdown",
      "source": [
        "# Analysis Case Study\n"
      ],
      "metadata": {
        "id": "1fMScaEl8_H6"
      }
    },
    {
      "cell_type": "markdown",
      "source": [
        "You've been given a dataset that has some dataset that could be used for analysis.  The structure of the data contains some exposure that is 'observed.'  You're also given two outcome variables, y1, and y2 as well as other variables that may or may not have some relationship with the outcome and/or the exposure."
      ],
      "metadata": {
        "id": "erhxnATt8JDU"
      }
    },
    {
      "cell_type": "code",
      "execution_count": 1,
      "metadata": {
        "id": "wJVahiEc6Od_"
      },
      "outputs": [],
      "source": [
        "import numpy as np\n",
        "import pandas as pd\n",
        "\n",
        "from IPython.core.interactiveshell import InteractiveShell\n",
        "InteractiveShell.ast_node_interactivity = \"all\"\n",
        "df = pd.read_csv('https://raw.githubusercontent.com/LaGuardia/interview_data/main/dtExp.csv')\n",
        "df.head()\n",
        "\n"
      ]
    },
    {
      "cell_type": "markdown",
      "source": [
        "1. Demonstrate your ability to get an understanding of the dataset.\n"
      ],
      "metadata": {
        "id": "PTLOCjnj9HjJ"
      }
    },
    {
      "cell_type": "markdown",
      "source": [
        "2. How would you determine any relationship or effect of the exposure variable and y1?  How would you include other variables in understanding this relationship?.  How would you do the same with y2?"
      ],
      "metadata": {
        "id": "tMGMe-sa9VYh"
      }
    },
    {
      "cell_type": "markdown",
      "source": [
        "3. What other methods would you employ if given more time?  What would be your story in presenting results?"
      ],
      "metadata": {
        "id": "plrJ2xZL9qXE"
      }
    },
    {
      "cell_type": "markdown",
      "source": [
        "# ML / Data Science knowledge"
      ],
      "metadata": {
        "id": "57FaAZC2BqNr"
      }
    },
    {
      "cell_type": "markdown",
      "source": [
        "1. What Are the Different Types of Machine Learning? Can you describe when you'd use them?"
      ],
      "metadata": {
        "id": "81c1tBV8Cyg1"
      }
    },
    {
      "cell_type": "markdown",
      "source": [
        "2. Describe one model that you've used recently and it's advantages with respect to solving your problem.  Can you name others that would work as well?"
      ],
      "metadata": {
        "id": "VioHUZDaC8vB"
      }
    },
    {
      "cell_type": "markdown",
      "source": [
        "# Programming in python"
      ],
      "metadata": {
        "id": "mUln73VbFeub"
      }
    },
    {
      "cell_type": "markdown",
      "source": [
        "Given an array of integers *nums* and an integer *target*, return indices of the two numbers such that they add up to target.\n",
        "\n",
        "You may assume that each input would have exactly one solution, and you may not use the same element twice.\n",
        "\n",
        "You can return the answer in any order.\n",
        "\n",
        "\n",
        "----------------------------------\n",
        "Example 1:\n",
        "\n",
        "Input: nums = [2,7,11,15],\n",
        "\n",
        "target = 9\n",
        "\n",
        "Output: [0,1]\n",
        "\n",
        "Explanation: Because nums[0] + nums[1] == 9, we return [0, 1].\n",
        "\n",
        "----------------------------------\n",
        "Example 2:\n",
        "\n",
        "Input: nums = [3,3],\n",
        "\n",
        "target = 6\n",
        "\n",
        "Output: [0,1]"
      ],
      "metadata": {
        "id": "8fmrKf5uFl2Z"
      }
    },
    {
      "cell_type": "code",
      "source": [],
      "metadata": {
        "id": "sLrbbcAc93Qy"
      },
      "execution_count": null,
      "outputs": []
    },
    {
      "cell_type": "code",
      "source": [],
      "metadata": {
        "id": "JmamZlv_Dkx-"
      },
      "execution_count": null,
      "outputs": []
    }
  ]
}