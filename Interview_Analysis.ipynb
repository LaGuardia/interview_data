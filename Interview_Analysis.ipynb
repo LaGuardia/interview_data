{
  "nbformat": 4,
  "nbformat_minor": 0,
  "metadata": {
    "colab": {
      "provenance": [],
      "authorship_tag": "ABX9TyPQ3wuC8IskGQAs/xh0FKg5",
      "include_colab_link": true
    },
    "kernelspec": {
      "name": "python3",
      "display_name": "Python 3"
    },
    "language_info": {
      "name": "python"
    }
  },
  "cells": [
    {
      "cell_type": "markdown",
      "metadata": {
        "id": "view-in-github",
        "colab_type": "text"
      },
      "source": [
        "<a href=\"https://colab.research.google.com/github/LaGuardia/interview_data/blob/main/Interview_Analysis.ipynb\" target=\"_parent\"><img src=\"https://colab.research.google.com/assets/colab-badge.svg\" alt=\"Open In Colab\"/></a>"
      ]
    },
    {
      "cell_type": "markdown",
      "source": [],
      "metadata": {
        "id": "1fMScaEl8_H6"
      }
    },
    {
      "cell_type": "markdown",
      "source": [
        "You've been given a dataset that has some dataset that could be used for analysis.  The structure of the data contains some exposure that is 'observed.'  You're also given two outcome variables, y1, and y2 as well as other variables that may or may not have some relationship with the outcome and/or the exposure."
      ],
      "metadata": {
        "id": "erhxnATt8JDU"
      }
    },
    {
      "cell_type": "code",
      "execution_count": 1,
      "metadata": {
        "id": "wJVahiEc6Od_"
      },
      "outputs": [],
      "source": [
        "import numpy as np\n",
        "import pandas as pd\n",
        "\n",
        "from IPython.core.interactiveshell import InteractiveShell\n",
        "InteractiveShell.ast_node_interactivity = \"all\"\n",
        "df = pd.read_csv('https://raw.githubusercontent.com/LaGuardia/interview_data/main/dtExp.csv')\n",
        "df.head()\n",
        "\n"
      ]
    },
    {
      "cell_type": "markdown",
      "source": [
        "1. Demonstrate your ability to get an understanding of the dataset.\n"
      ],
      "metadata": {
        "id": "PTLOCjnj9HjJ"
      }
    },
    {
      "cell_type": "markdown",
      "source": [
        "2. How would you determine any relationship or effect of the exposure variable and y1?  How would you include other variables in understanding this relationship?.  How would you do the same with y2?"
      ],
      "metadata": {
        "id": "tMGMe-sa9VYh"
      }
    },
    {
      "cell_type": "markdown",
      "source": [
        "3. What other methods would you employ if given more time?  What would be your story in presenting results?"
      ],
      "metadata": {
        "id": "plrJ2xZL9qXE"
      }
    },
    {
      "cell_type": "code",
      "source": [],
      "metadata": {
        "id": "sLrbbcAc93Qy"
      },
      "execution_count": null,
      "outputs": []
    }
  ]
}